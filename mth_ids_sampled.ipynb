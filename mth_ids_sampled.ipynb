{
  "cells": [
    {
      "cell_type": "markdown",
      "metadata": {
        "id": "4t7HWM_vxUK0"
      },
      "source": [
        "# MTH-IDS: A Multi-Tiered Hybrid Intrusion Detection System for Internet of Vehicles\n",
        "This is the code for the paper entitled \"[**MTH-IDS: A Multi-Tiered Hybrid Intrusion Detection System for Internet of Vehicles**](https://arxiv.org/pdf/2105.13289.pdf)\" accepted in IEEE Internet of Things Journal.  \n",
        "Authors: Li Yang (liyanghart@gmail.com), Abdallah Moubayed, and Abdallah Shami  \n",
        "Organization: The Optimized Computing and Communications (OC2) Lab, ECE Department, Western University\n",
        "\n",
        "If you find this repository useful in your research, please cite:  \n",
        "L. Yang, A. Moubayed, and A. Shami, “MTH-IDS: A Multi-Tiered Hybrid Intrusion Detection System for Internet of Vehicles,” IEEE Internet of Things Journal, vol. 9, no. 1, pp. 616-632, Jan.1, 2022."
      ]
    },
    {
      "cell_type": "markdown",
      "metadata": {
        "id": "UziGNZBBxUK2"
      },
      "source": [
        "## Import libraries"
      ]
    },
    {
      "cell_type": "code",
      "execution_count": 1,
      "metadata": {
        "id": "p7FfWC6fxUK3"
      },
      "outputs": [],
      "source": [
        "import warnings\n",
        "warnings.filterwarnings(\"ignore\")"
      ]
    },
    {
      "cell_type": "code",
      "execution_count": 2,
      "metadata": {
        "id": "lzVfoLulxUK4"
      },
      "outputs": [],
      "source": [
        "import numpy as np\n",
        "import pandas as pd\n",
        "import seaborn as sns\n",
        "import matplotlib.pyplot as plt\n",
        "from sklearn.preprocessing import LabelEncoder\n",
        "from sklearn.model_selection import train_test_split\n",
        "from sklearn.metrics import classification_report,confusion_matrix,accuracy_score,precision_recall_fscore_support\n",
        "from sklearn.metrics import f1_score,roc_auc_score\n",
        "from sklearn.ensemble import RandomForestClassifier,ExtraTreesClassifier\n",
        "from sklearn.tree import DecisionTreeClassifier\n",
        "import xgboost as xgb\n",
        "from xgboost import plot_importance"
      ]
    },
    {
      "cell_type": "markdown",
      "metadata": {
        "id": "dFxLetiSxUK4"
      },
      "source": [
        "## Read the sampled CICIDS2017 dataset\n",
        "The CICIDS2017 dataset is publicly available at: https://www.unb.ca/cic/datasets/ids-2017.html  \n",
        "Due to the large size of this dataset, the sampled subsets of CICIDS2017 is used. The subsets are in the \"data\" folder.  \n",
        "If you want to use this code on other datasets (e.g., CAN-intrusion dataset), just change the dataset name and follow the same steps. The models in this code are generic models that can be used in any intrusion detection/network traffic datasets."
      ]
    },
    {
      "cell_type": "markdown",
      "metadata": {
        "id": "PK1kIN12xUK8"
      },
      "source": [
        "### split train set and test set"
      ]
    },
    {
      "cell_type": "code",
      "execution_count": 3,
      "metadata": {
        "id": "j78jyq1pxUK8"
      },
      "outputs": [],
      "source": [
        "# Read the sampled dataset\n",
        "df=pd.read_csv('./data/CICIDS2017_sample_km.csv')"
      ]
    },
    {
      "cell_type": "code",
      "execution_count": 4,
      "metadata": {
        "id": "9pKN1WWty6D3"
      },
      "outputs": [],
      "source": [
        "df=df.dropna()"
      ]
    },
    {
      "cell_type": "code",
      "execution_count": 5,
      "metadata": {
        "id": "_BOsfDT8xUK9"
      },
      "outputs": [],
      "source": [
        "X = df.drop(['Label'],axis=1).values\n",
        "y = df.iloc[:, -1].values.reshape(-1,1)\n",
        "y=np.ravel(y)"
      ]
    },
    {
      "cell_type": "code",
      "execution_count": 6,
      "metadata": {
        "collapsed": true,
        "id": "krMl4QWpxUK9"
      },
      "outputs": [],
      "source": [
        "X_train, X_test, y_train, y_test = train_test_split(X,y, train_size = 0.8, test_size = 0.2, random_state = 0,stratify = y)"
      ]
    },
    {
      "cell_type": "markdown",
      "metadata": {
        "id": "nRFOyF1pxUK9"
      },
      "source": [
        "## Feature engineering"
      ]
    },
    {
      "cell_type": "markdown",
      "metadata": {
        "id": "yEFEQ4AsxUK9"
      },
      "source": [
        "### Feature selection by information gain"
      ]
    },
    {
      "cell_type": "code",
      "execution_count": 7,
      "metadata": {
        "collapsed": true,
        "id": "rTKojvAqxUK9"
      },
      "outputs": [],
      "source": [
        "from sklearn.feature_selection import mutual_info_classif\n",
        "importances = mutual_info_classif(X_train, y_train)"
      ]
    },
    {
      "cell_type": "code",
      "execution_count": 8,
      "metadata": {
        "id": "guM3cjCAz4mb"
      },
      "outputs": [],
      "source": [
        "features = df.dtypes[df.dtypes != 'object'].index"
      ]
    },
    {
      "cell_type": "code",
      "execution_count": 9,
      "metadata": {
        "id": "cbkVy6YRxUK9"
      },
      "outputs": [],
      "source": [
        "# calculate the sum of importance scores\n",
        "f_list = sorted(zip(map(lambda x: round(x, 4), importances), features), reverse=True)\n",
        "Sum = 0\n",
        "fs = []\n",
        "for i in range(0, len(f_list)):\n",
        "    Sum = Sum + f_list[i][0]\n",
        "    fs.append(f_list[i][1])"
      ]
    },
    {
      "cell_type": "code",
      "execution_count": 10,
      "metadata": {
        "id": "JFdktkzBxUK9"
      },
      "outputs": [],
      "source": [
        "# select the important features from top to bottom until the accumulated importance reaches 90%\n",
        "f_list2 = sorted(zip(map(lambda x: round(x, 4), importances/Sum), features), reverse=True)\n",
        "Sum2 = 0\n",
        "fs = []\n",
        "for i in range(0, len(f_list2)):\n",
        "    Sum2 = Sum2 + f_list2[i][0]\n",
        "    fs.append(f_list2[i][1])\n",
        "    if Sum2>=0.9:\n",
        "        break"
      ]
    },
    {
      "cell_type": "code",
      "execution_count": 11,
      "metadata": {
        "collapsed": true,
        "id": "ctz-LDi7xUK9"
      },
      "outputs": [],
      "source": [
        "X_fs = df[fs].values"
      ]
    },
    {
      "cell_type": "code",
      "execution_count": 12,
      "metadata": {
        "colab": {
          "base_uri": "https://localhost:8080/"
        },
        "id": "8Nz_vwcExUK-",
        "outputId": "204ab2dd-dd78-4248-ea60-8f1f1daab582"
      },
      "outputs": [
        {
          "data": {
            "text/plain": [
              "(26769, 45)"
            ]
          },
          "execution_count": 12,
          "metadata": {},
          "output_type": "execute_result"
        }
      ],
      "source": [
        "X_fs.shape"
      ]
    },
    {
      "cell_type": "markdown",
      "metadata": {
        "id": "ysXQ9K-DxUK-"
      },
      "source": [
        "### Feature selection by Fast Correlation Based Filter (FCBF)\n",
        "\n",
        "The module is imported from the GitHub repo: https://github.com/SantiagoEG/FCBF_module"
      ]
    },
    {
      "cell_type": "code",
      "execution_count": 13,
      "metadata": {
        "collapsed": true,
        "id": "0JI66AoOxUK-"
      },
      "outputs": [],
      "source": [
        "from FCBF_module import FCBF, FCBFK, FCBFiP, get_i\n",
        "fcbf = FCBFK(k = 20)\n",
        "#fcbf.fit(X_fs, y)"
      ]
    },
    {
      "cell_type": "code",
      "execution_count": 14,
      "metadata": {
        "colab": {
          "base_uri": "https://localhost:8080/",
          "height": 287
        },
        "id": "af0KmQXtxUK-",
        "outputId": "b1dc1247-c90a-40d3-eb60-9e31f89a593b"
      },
      "outputs": [],
      "source": [
        "X_fss = fcbf.fit_transform(X_fs,y)"
      ]
    },
    {
      "cell_type": "code",
      "execution_count": 15,
      "metadata": {
        "id": "k18bB_xAxULJ"
      },
      "outputs": [
        {
          "data": {
            "text/plain": [
              "(26769, 20)"
            ]
          },
          "execution_count": 15,
          "metadata": {},
          "output_type": "execute_result"
        }
      ],
      "source": [
        "X_fss.shape"
      ]
    },
    {
      "cell_type": "markdown",
      "metadata": {
        "id": "_LVnyDFHxULJ"
      },
      "source": [
        "### Re-split train & test sets after feature selection"
      ]
    },
    {
      "cell_type": "code",
      "execution_count": 16,
      "metadata": {
        "collapsed": true,
        "id": "w76EcOUXxULJ"
      },
      "outputs": [],
      "source": [
        "X_train, X_test, y_train, y_test = train_test_split(X_fss,y, train_size = 0.8, test_size = 0.2, random_state = 0,stratify = y)"
      ]
    },
    {
      "cell_type": "code",
      "execution_count": 17,
      "metadata": {
        "id": "bcpu6n4axULJ",
        "outputId": "efac95b4-b57b-449c-85b3-68f03de5a20e"
      },
      "outputs": [
        {
          "data": {
            "text/plain": [
              "(21415, 20)"
            ]
          },
          "execution_count": 17,
          "metadata": {},
          "output_type": "execute_result"
        }
      ],
      "source": [
        "X_train.shape"
      ]
    },
    {
      "cell_type": "code",
      "execution_count": 18,
      "metadata": {
        "id": "n-HVXnX3xULJ",
        "outputId": "4becce78-4acb-4a13-ef4f-fe426ce6e949"
      },
      "outputs": [
        {
          "data": {
            "text/plain": [
              "0    14557\n",
              "3     2418\n",
              "6     1744\n",
              "1     1573\n",
              "5     1005\n",
              "2       89\n",
              "4       29\n",
              "Name: count, dtype: int64"
            ]
          },
          "execution_count": 18,
          "metadata": {},
          "output_type": "execute_result"
        }
      ],
      "source": [
        "pd.Series(y_train).value_counts()"
      ]
    },
    {
      "cell_type": "markdown",
      "metadata": {
        "id": "7Fq_4oHSxULJ"
      },
      "source": [
        "### SMOTE to solve class-imbalance"
      ]
    },
    {
      "cell_type": "code",
      "execution_count": 22,
      "metadata": {
        "id": "wr9Ci_8XxULK",
        "outputId": "a01ff085-8557-4ee8-fdbb-43b507617b35"
      },
      "outputs": [],
      "source": [
        "from imblearn.over_sampling import SMOTE\n",
        "smote=SMOTE(sampling_strategy={2:1000,4:1000})"
      ]
    },
    {
      "cell_type": "code",
      "execution_count": 23,
      "metadata": {
        "collapsed": true,
        "id": "m24cSpTSxULK"
      },
      "outputs": [],
      "source": [
        "X_train, y_train = smote.fit_resample(X_train, y_train)"
      ]
    },
    {
      "cell_type": "code",
      "execution_count": 24,
      "metadata": {
        "id": "5bWzsFoSxULK",
        "outputId": "0268a179-823f-42a0-b8d7-7e8ee62b0691"
      },
      "outputs": [
        {
          "data": {
            "text/plain": [
              "0    14557\n",
              "3     2418\n",
              "6     1744\n",
              "1     1573\n",
              "5     1005\n",
              "4     1000\n",
              "2     1000\n",
              "Name: count, dtype: int64"
            ]
          },
          "execution_count": 24,
          "metadata": {},
          "output_type": "execute_result"
        }
      ],
      "source": [
        "pd.Series(y_train).value_counts()"
      ]
    },
    {
      "cell_type": "code",
      "execution_count": 25,
      "metadata": {},
      "outputs": [],
      "source": [
        "criteria = ['gini', 'entropy']"
      ]
    },
    {
      "cell_type": "markdown",
      "metadata": {
        "id": "z3fcHZr_xULK"
      },
      "source": [
        "### Training four base learners: decision tree, random forest, extra trees, XGBoost"
      ]
    },
    {
      "cell_type": "markdown",
      "metadata": {
        "id": "hPwZE-F2xULK"
      },
      "source": [
        "#### Apply XGBoost"
      ]
    },
    {
      "cell_type": "code",
      "execution_count": 26,
      "metadata": {
        "id": "CIujHWYrxULK",
        "outputId": "a5e38da3-3d38-43eb-abf7-0f49e1adc603"
      },
      "outputs": [
        {
          "name": "stdout",
          "output_type": "stream",
          "text": [
            "Accuracy of XGBoost: 0.9934628315278297\n",
            "Precision of XGBoost: 0.9935098770737718\n",
            "Recall of XGBoost: 0.9934628315278297\n",
            "F1-score of XGBoost: 0.9934675692546018\n",
            "              precision    recall  f1-score   support\n",
            "\n",
            "           0       1.00      0.99      1.00      3640\n",
            "           1       0.99      0.99      0.99       393\n",
            "           2       0.96      1.00      0.98        22\n",
            "           3       0.99      0.99      0.99       605\n",
            "           4       1.00      0.86      0.92         7\n",
            "           5       1.00      0.99      1.00       251\n",
            "           6       0.97      0.99      0.98       436\n",
            "\n",
            "    accuracy                           0.99      5354\n",
            "   macro avg       0.99      0.97      0.98      5354\n",
            "weighted avg       0.99      0.99      0.99      5354\n",
            "\n"
          ]
        },
        {
          "data": {
            "image/png": "[encoded data removed]",
            "text/plain": [
              "<Figure size 500x500 with 2 Axes>"
            ]
          },
          "metadata": {},
          "output_type": "display_data"
        }
      ],
      "source": [
        "xg = xgb.XGBClassifier(n_estimators = 10)\n",
        "xg.fit(X_train,y_train)\n",
        "xg_score=xg.score(X_test,y_test)\n",
        "y_predict=xg.predict(X_test)\n",
        "y_true=y_test\n",
        "print('Accuracy of XGBoost: '+ str(xg_score))\n",
        "precision,recall,fscore,none= precision_recall_fscore_support(y_true, y_predict, average='weighted')\n",
        "print('Precision of XGBoost: '+(str(precision)))\n",
        "print('Recall of XGBoost: '+(str(recall)))\n",
        "print('F1-score of XGBoost: '+(str(fscore)))\n",
        "print(classification_report(y_true,y_predict))\n",
        "cm=confusion_matrix(y_true,y_predict)\n",
        "f,ax=plt.subplots(figsize=(5,5))\n",
        "sns.heatmap(cm,annot=True,linewidth=0.5,linecolor=\"red\",fmt=\".0f\",ax=ax)\n",
        "plt.xlabel(\"y_pred\")\n",
        "plt.ylabel(\"y_true\")\n",
        "plt.show()"
      ]
    },
    {
      "cell_type": "markdown",
      "metadata": {
        "id": "q8X9u1pUxULK"
      },
      "source": [
        "#### Hyperparameter optimization (HPO) of XGBoost using Bayesian optimization with tree-based Parzen estimator (BO-TPE)\n",
        "Based on the GitHub repo for HPO: https://github.com/LiYangHart/Hyperparameter-Optimization-of-Machine-Learning-Algorithms"
      ]
    },
    {
      "cell_type": "code",
      "execution_count": 27,
      "metadata": {
        "id": "1wPPno9DxULK",
        "outputId": "a9e22650-af0f-457e-a30c-b608973166c5"
      },
      "outputs": [
        {
          "name": "stdout",
          "output_type": "stream",
          "text": [
            "100%|██████████| 20/20 [00:10<00:00,  1.88trial/s, best loss: -0.9970115801270079]\n",
            "XGBoost: Hyperopt estimated optimum {'learning_rate': -1.1577829633790846, 'max_depth': 25.0, 'n_estimators': 75.0}\n"
          ]
        }
      ],
      "source": [
        "from hyperopt import hp, fmin, tpe, STATUS_OK, Trials\n",
        "from sklearn.model_selection import cross_val_score, StratifiedKFold\n",
        "def objective(params):\n",
        "    params = {\n",
        "        'n_estimators': int(params['n_estimators']),\n",
        "        'max_depth': int(params['max_depth']),\n",
        "        'learning_rate':  abs(float(params['learning_rate'])),\n",
        "\n",
        "    }\n",
        "    clf = xgb.XGBClassifier( **params)\n",
        "    clf.fit(X_train, y_train)\n",
        "    y_pred = clf.predict(X_test)\n",
        "    score = accuracy_score(y_test, y_pred)\n",
        "\n",
        "    return {'loss':-score, 'status': STATUS_OK }\n",
        "\n",
        "space = {\n",
        "    'n_estimators': hp.quniform('n_estimators', 10, 100, 5),\n",
        "    'max_depth': hp.quniform('max_depth', 4, 100, 1),\n",
        "    'learning_rate': hp.normal('learning_rate', 0.01, 0.9),\n",
        "}\n",
        "\n",
        "best = fmin(fn=objective,\n",
        "            space=space,\n",
        "            algo=tpe.suggest,\n",
        "            max_evals=20)\n",
        "print(\"XGBoost: Hyperopt estimated optimum {}\".format(best))"
      ]
    },
    {
      "cell_type": "code",
      "execution_count": 29,
      "metadata": {
        "id": "KJMqDiGExULK",
        "outputId": "904d9998-16de-40ad-831f-29ae0ebe4f1b"
      },
      "outputs": [
        {
          "name": "stdout",
          "output_type": "stream",
          "text": [
            "Accuracy of XGBoost: 0.9970115801270079\n",
            "Precision of XGBoost: 0.9970287974989748\n",
            "Recall of XGBoost: 0.9970115801270079\n",
            "F1-score of XGBoost: 0.9970149781795179\n",
            "              precision    recall  f1-score   support\n",
            "\n",
            "           0       1.00      1.00      1.00      3640\n",
            "           1       0.99      1.00      1.00       393\n",
            "           2       0.96      1.00      0.98        22\n",
            "           3       1.00      1.00      1.00       605\n",
            "           4       1.00      1.00      1.00         7\n",
            "           5       1.00      0.99      1.00       251\n",
            "           6       0.99      1.00      0.99       436\n",
            "\n",
            "    accuracy                           1.00      5354\n",
            "   macro avg       0.99      1.00      0.99      5354\n",
            "weighted avg       1.00      1.00      1.00      5354\n",
            "\n"
          ]
        },
        {
          "data": {
            "image/png": "[encoded data removed]",
            "text/plain": [
              "<Figure size 500x500 with 2 Axes>"
            ]
          },
          "metadata": {},
          "output_type": "display_data"
        }
      ],
      "source": [
        "xg = xgb.XGBClassifier(learning_rate=1.1577829633790846, n_estimators=75, max_depth =25)\n",
        "xg.fit(X_train,y_train)\n",
        "xg_score=xg.score(X_test,y_test)\n",
        "y_predict=xg.predict(X_test)\n",
        "y_true=y_test\n",
        "print('Accuracy of XGBoost: '+ str(xg_score))\n",
        "precision,recall,fscore,none= precision_recall_fscore_support(y_true, y_predict, average='weighted')\n",
        "print('Precision of XGBoost: '+(str(precision)))\n",
        "print('Recall of XGBoost: '+(str(recall)))\n",
        "print('F1-score of XGBoost: '+(str(fscore)))\n",
        "print(classification_report(y_true,y_predict))\n",
        "cm=confusion_matrix(y_true,y_predict)\n",
        "f,ax=plt.subplots(figsize=(5,5))\n",
        "sns.heatmap(cm,annot=True,linewidth=0.5,linecolor=\"red\",fmt=\".0f\",ax=ax)\n",
        "plt.xlabel(\"y_pred\")\n",
        "plt.ylabel(\"y_true\")\n",
        "plt.show()"
      ]
    },
    {
      "cell_type": "code",
      "execution_count": 30,
      "metadata": {
        "id": "nAsVa2t6xULL"
      },
      "outputs": [],
      "source": [
        "xg_train=xg.predict(X_train)\n",
        "xg_test=xg.predict(X_test)"
      ]
    },
    {
      "cell_type": "markdown",
      "metadata": {
        "id": "qCYN3AG8xULL"
      },
      "source": [
        "#### Apply RF"
      ]
    },
    {
      "cell_type": "code",
      "execution_count": 31,
      "metadata": {
        "id": "tQoaSNtXxULL",
        "outputId": "a20fc38b-89a6-45f0-971b-3a18b47624fc"
      },
      "outputs": [
        {
          "name": "stdout",
          "output_type": "stream",
          "text": [
            "Accuracy of RF: 0.9958909226746357\n",
            "Precision of RF: 0.995902371132844\n",
            "Recall of RF: 0.9958909226746357\n",
            "F1-score of RF: 0.9958609339002981\n",
            "              precision    recall  f1-score   support\n",
            "\n",
            "           0       1.00      1.00      1.00      3640\n",
            "           1       0.99      1.00      1.00       393\n",
            "           2       1.00      1.00      1.00        22\n",
            "           3       1.00      0.99      0.99       605\n",
            "           4       1.00      0.71      0.83         7\n",
            "           5       1.00      0.99      0.99       251\n",
            "           6       0.99      1.00      0.99       436\n",
            "\n",
            "    accuracy                           1.00      5354\n",
            "   macro avg       1.00      0.96      0.97      5354\n",
            "weighted avg       1.00      1.00      1.00      5354\n",
            "\n"
          ]
        },
        {
          "data": {
            "image/png": "[encoded data removed]",
            "text/plain": [
              "<Figure size 500x500 with 2 Axes>"
            ]
          },
          "metadata": {},
          "output_type": "display_data"
        }
      ],
      "source": [
        "rf = RandomForestClassifier(random_state = 0)\n",
        "rf.fit(X_train,y_train)\n",
        "rf_score=rf.score(X_test,y_test)\n",
        "y_predict=rf.predict(X_test)\n",
        "y_true=y_test\n",
        "print('Accuracy of RF: '+ str(rf_score))\n",
        "precision,recall,fscore,none= precision_recall_fscore_support(y_true, y_predict, average='weighted')\n",
        "print('Precision of RF: '+(str(precision)))\n",
        "print('Recall of RF: '+(str(recall)))\n",
        "print('F1-score of RF: '+(str(fscore)))\n",
        "print(classification_report(y_true,y_predict))\n",
        "cm=confusion_matrix(y_true,y_predict)\n",
        "f,ax=plt.subplots(figsize=(5,5))\n",
        "sns.heatmap(cm,annot=True,linewidth=0.5,linecolor=\"red\",fmt=\".0f\",ax=ax)\n",
        "plt.xlabel(\"y_pred\")\n",
        "plt.ylabel(\"y_true\")\n",
        "plt.show()"
      ]
    },
    {
      "cell_type": "markdown",
      "metadata": {
        "id": "payxyEVsxULL"
      },
      "source": [
        "#### Hyperparameter optimization (HPO) of random forest using Bayesian optimization with tree-based Parzen estimator (BO-TPE)\n",
        "Based on the GitHub repo for HPO: https://github.com/LiYangHart/Hyperparameter-Optimization-of-Machine-Learning-Algorithms"
      ]
    },
    {
      "cell_type": "code",
      "execution_count": 32,
      "metadata": {
        "id": "bNy9aSmKxULL",
        "outputId": "d0b3676d-f833-45c6-b01b-ec200b625bdb"
      },
      "outputs": [
        {
          "name": "stdout",
          "output_type": "stream",
          "text": [
            "100%|██████████| 20/20 [01:33<00:00,  4.69s/trial, best loss: -0.9962644751587598]\n",
            "Random Forest: Hyperopt estimated optimum {'criterion': 1, 'max_depth': 49.0, 'max_features': 10.0, 'min_samples_leaf': 1.0, 'min_samples_split': 2.0, 'n_estimators': 116.0}\n"
          ]
        }
      ],
      "source": [
        "# Hyperparameter optimization of random forest\n",
        "from hyperopt import hp, fmin, tpe, STATUS_OK, Trials\n",
        "from sklearn.model_selection import cross_val_score, StratifiedKFold\n",
        "# Define the objective function\n",
        "def objective(params):\n",
        "    params = {\n",
        "        'n_estimators': int(params['n_estimators']),\n",
        "        'max_depth': int(params['max_depth']),\n",
        "        'max_features': int(params['max_features']),\n",
        "        \"min_samples_split\":int(params['min_samples_split']),\n",
        "        \"min_samples_leaf\":int(params['min_samples_leaf']),\n",
        "        \"criterion\":str(params['criterion'])\n",
        "    }\n",
        "    clf = RandomForestClassifier( **params)\n",
        "    clf.fit(X_train,y_train)\n",
        "    score=clf.score(X_test,y_test)\n",
        "\n",
        "    return {'loss':-score, 'status': STATUS_OK }\n",
        "# Define the hyperparameter configuration space\n",
        "space = {\n",
        "    'n_estimators': hp.quniform('n_estimators', 10, 200, 1),\n",
        "    'max_depth': hp.quniform('max_depth', 5, 50, 1),\n",
        "    \"max_features\":hp.quniform('max_features', 1, 20, 1),\n",
        "    \"min_samples_split\":hp.quniform('min_samples_split',2,11,1),\n",
        "    \"min_samples_leaf\":hp.quniform('min_samples_leaf',1,11,1),\n",
        "    \"criterion\":hp.choice('criterion',['gini','entropy'])\n",
        "}\n",
        "\n",
        "best = fmin(fn=objective,\n",
        "            space=space,\n",
        "            algo=tpe.suggest,\n",
        "            max_evals=20)\n",
        "print(\"Random Forest: Hyperopt estimated optimum {}\".format(best))"
      ]
    },
    {
      "cell_type": "code",
      "execution_count": 37,
      "metadata": {
        "id": "fJ_Ve8w-xULL",
        "outputId": "d3ef68eb-8538-497f-ad9e-6d2fe9d823a4"
      },
      "outputs": [
        {
          "name": "stdout",
          "output_type": "stream",
          "text": [
            "Accuracy of RF: 0.9964512514008218\n",
            "Precision of RF: 0.9964727262756796\n",
            "Recall of RF: 0.9964512514008218\n",
            "F1-score of RF: 0.996452668858117\n",
            "              precision    recall  f1-score   support\n",
            "\n",
            "           0       1.00      1.00      1.00      3640\n",
            "           1       0.99      1.00      1.00       393\n",
            "           2       0.96      1.00      0.98        22\n",
            "           3       1.00      0.99      1.00       605\n",
            "           4       1.00      1.00      1.00         7\n",
            "           5       1.00      0.98      0.99       251\n",
            "           6       0.99      1.00      0.99       436\n",
            "\n",
            "    accuracy                           1.00      5354\n",
            "   macro avg       0.99      1.00      0.99      5354\n",
            "weighted avg       1.00      1.00      1.00      5354\n",
            "\n"
          ]
        },
        {
          "data": {
            "image/png": "[encoded data removed]",
            "text/plain": [
              "<Figure size 500x500 with 2 Axes>"
            ]
          },
          "metadata": {},
          "output_type": "display_data"
        }
      ],
      "source": [
        "rf_hpo = RandomForestClassifier(n_estimators =116, min_samples_leaf = 1, max_depth = 49, min_samples_split = 2, max_features = 10, criterion = criteria[best['criterion']])\n",
        "rf_hpo.fit(X_train,y_train)\n",
        "rf_score=rf_hpo.score(X_test,y_test)\n",
        "y_predict=rf_hpo.predict(X_test)\n",
        "y_true=y_test\n",
        "print('Accuracy of RF: '+ str(rf_score))\n",
        "precision,recall,fscore,none= precision_recall_fscore_support(y_true, y_predict, average='weighted')\n",
        "print('Precision of RF: '+(str(precision)))\n",
        "print('Recall of RF: '+(str(recall)))\n",
        "print('F1-score of RF: '+(str(fscore)))\n",
        "print(classification_report(y_true,y_predict))\n",
        "cm=confusion_matrix(y_true,y_predict)\n",
        "f,ax=plt.subplots(figsize=(5,5))\n",
        "sns.heatmap(cm,annot=True,linewidth=0.5,linecolor=\"red\",fmt=\".0f\",ax=ax)\n",
        "plt.xlabel(\"y_pred\")\n",
        "plt.ylabel(\"y_true\")\n",
        "plt.show()"
      ]
    },
    {
      "cell_type": "code",
      "execution_count": 38,
      "metadata": {
        "collapsed": true,
        "id": "58tc0oG-xULL"
      },
      "outputs": [],
      "source": [
        "rf_train=rf_hpo.predict(X_train)\n",
        "rf_test=rf_hpo.predict(X_test)"
      ]
    },
    {
      "cell_type": "markdown",
      "metadata": {
        "id": "B7HsdaRExULL"
      },
      "source": [
        "#### Apply DT"
      ]
    },
    {
      "cell_type": "code",
      "execution_count": 39,
      "metadata": {
        "id": "f0y5K8HAxULL",
        "outputId": "3f4486c9-ca5e-4049-dd80-cdc000effabe"
      },
      "outputs": [
        {
          "name": "stdout",
          "output_type": "stream",
          "text": [
            "Accuracy of DT: 0.9938363840119537\n",
            "Precision of DT: 0.9938789446922118\n",
            "Recall of DT: 0.9938363840119537\n",
            "F1-score of DT: 0.9938445680214824\n",
            "              precision    recall  f1-score   support\n",
            "\n",
            "           0       1.00      0.99      1.00      3640\n",
            "           1       0.99      1.00      0.99       393\n",
            "           2       0.96      1.00      0.98        22\n",
            "           3       0.99      1.00      0.99       605\n",
            "           4       0.71      0.71      0.71         7\n",
            "           5       0.99      0.99      0.99       251\n",
            "           6       0.98      1.00      0.99       436\n",
            "\n",
            "    accuracy                           0.99      5354\n",
            "   macro avg       0.95      0.96      0.95      5354\n",
            "weighted avg       0.99      0.99      0.99      5354\n",
            "\n"
          ]
        },
        {
          "data": {
            "image/png": "[encoded data removed]",
            "text/plain": [
              "<Figure size 500x500 with 2 Axes>"
            ]
          },
          "metadata": {},
          "output_type": "display_data"
        }
      ],
      "source": [
        "dt = DecisionTreeClassifier(random_state = 0)\n",
        "dt.fit(X_train,y_train)\n",
        "dt_score=dt.score(X_test,y_test)\n",
        "y_predict=dt.predict(X_test)\n",
        "y_true=y_test\n",
        "print('Accuracy of DT: '+ str(dt_score))\n",
        "precision,recall,fscore,none= precision_recall_fscore_support(y_true, y_predict, average='weighted')\n",
        "print('Precision of DT: '+(str(precision)))\n",
        "print('Recall of DT: '+(str(recall)))\n",
        "print('F1-score of DT: '+(str(fscore)))\n",
        "print(classification_report(y_true,y_predict))\n",
        "cm=confusion_matrix(y_true,y_predict)\n",
        "f,ax=plt.subplots(figsize=(5,5))\n",
        "sns.heatmap(cm,annot=True,linewidth=0.5,linecolor=\"red\",fmt=\".0f\",ax=ax)\n",
        "plt.xlabel(\"y_pred\")\n",
        "plt.ylabel(\"y_true\")\n",
        "plt.show()"
      ]
    },
    {
      "cell_type": "markdown",
      "metadata": {
        "id": "GWyJpF_yxULM"
      },
      "source": [
        "#### Hyperparameter optimization (HPO) of decision tree using Bayesian optimization with tree-based Parzen estimator (BO-TPE)\n",
        "Based on the GitHub repo for HPO: https://github.com/LiYangHart/Hyperparameter-Optimization-of-Machine-Learning-Algorithms"
      ]
    },
    {
      "cell_type": "code",
      "execution_count": 40,
      "metadata": {
        "id": "BzCCLyzjxULM",
        "outputId": "97eb0787-5f0f-4e94-cff8-bed13d772ff1"
      },
      "outputs": [
        {
          "name": "stdout",
          "output_type": "stream",
          "text": [
            "100%|██████████| 50/50 [00:03<00:00, 13.34trial/s, best loss: -0.9951438177063877]\n",
            "Decision tree: Hyperopt estimated optimum {'criterion': 1, 'max_depth': 23.0, 'max_features': 12.0, 'min_samples_leaf': 2.0, 'min_samples_split': 3.0}\n"
          ]
        }
      ],
      "source": [
        "# Hyperparameter optimization of decision tree\n",
        "from hyperopt import hp, fmin, tpe, STATUS_OK, Trials\n",
        "from sklearn.model_selection import cross_val_score, StratifiedKFold\n",
        "# Define the objective function\n",
        "def objective(params):\n",
        "    params = {\n",
        "        'max_depth': int(params['max_depth']),\n",
        "        'max_features': int(params['max_features']),\n",
        "        \"min_samples_split\":int(params['min_samples_split']),\n",
        "        \"min_samples_leaf\":int(params['min_samples_leaf']),\n",
        "        \"criterion\":str(params['criterion'])\n",
        "    }\n",
        "    clf = DecisionTreeClassifier( **params)\n",
        "    clf.fit(X_train,y_train)\n",
        "    score=clf.score(X_test,y_test)\n",
        "\n",
        "    return {'loss':-score, 'status': STATUS_OK }\n",
        "# Define the hyperparameter configuration space\n",
        "space = {\n",
        "    'max_depth': hp.quniform('max_depth', 5, 50, 1),\n",
        "    \"max_features\":hp.quniform('max_features', 1, 20, 1),\n",
        "    \"min_samples_split\":hp.quniform('min_samples_split',2,11,1),\n",
        "    \"min_samples_leaf\":hp.quniform('min_samples_leaf',1,11,1),\n",
        "    \"criterion\":hp.choice('criterion',['gini','entropy'])\n",
        "}\n",
        "\n",
        "best = fmin(fn=objective,\n",
        "            space=space,\n",
        "            algo=tpe.suggest,\n",
        "            max_evals=50)\n",
        "print(\"Decision tree: Hyperopt estimated optimum {}\".format(best))"
      ]
    },
    {
      "cell_type": "code",
      "execution_count": 41,
      "metadata": {
        "id": "IVdqHAioxULM",
        "outputId": "35f14817-e04d-4454-9440-16c34cecafef"
      },
      "outputs": [
        {
          "name": "stdout",
          "output_type": "stream",
          "text": [
            "Accuracy of DT: 0.9908479641389615\n",
            "Precision of DT: 0.9909251620567149\n",
            "Recall of DT: 0.9908479641389615\n",
            "F1-score of DT: 0.9908559912791498\n",
            "              precision    recall  f1-score   support\n",
            "\n",
            "           0       0.99      0.99      0.99      3640\n",
            "           1       0.98      0.99      0.99       393\n",
            "           2       0.88      1.00      0.94        22\n",
            "           3       0.99      0.99      0.99       605\n",
            "           4       1.00      1.00      1.00         7\n",
            "           5       1.00      0.97      0.98       251\n",
            "           6       0.98      0.98      0.98       436\n",
            "\n",
            "    accuracy                           0.99      5354\n",
            "   macro avg       0.98      0.99      0.98      5354\n",
            "weighted avg       0.99      0.99      0.99      5354\n",
            "\n"
          ]
        },
        {
          "data": {
            "image/png": "[encoded data removed]",
            "text/plain": [
              "<Figure size 500x500 with 2 Axes>"
            ]
          },
          "metadata": {},
          "output_type": "display_data"
        }
      ],
      "source": [
        "dt_hpo = DecisionTreeClassifier(min_samples_leaf = 2, max_depth = 23, min_samples_split = 3, max_features = 12, criterion = criteria[best['criterion']])\n",
        "dt_hpo.fit(X_train,y_train)\n",
        "dt_score=dt_hpo.score(X_test,y_test)\n",
        "y_predict=dt_hpo.predict(X_test)\n",
        "y_true=y_test\n",
        "print('Accuracy of DT: '+ str(dt_score))\n",
        "precision,recall,fscore,none= precision_recall_fscore_support(y_true, y_predict, average='weighted')\n",
        "print('Precision of DT: '+(str(precision)))\n",
        "print('Recall of DT: '+(str(recall)))\n",
        "print('F1-score of DT: '+(str(fscore)))\n",
        "print(classification_report(y_true,y_predict))\n",
        "cm=confusion_matrix(y_true,y_predict)\n",
        "f,ax=plt.subplots(figsize=(5,5))\n",
        "sns.heatmap(cm,annot=True,linewidth=0.5,linecolor=\"red\",fmt=\".0f\",ax=ax)\n",
        "plt.xlabel(\"y_pred\")\n",
        "plt.ylabel(\"y_true\")\n",
        "plt.show()"
      ]
    },
    {
      "cell_type": "code",
      "execution_count": 42,
      "metadata": {
        "collapsed": true,
        "id": "kVFSfe1ZxULM"
      },
      "outputs": [],
      "source": [
        "dt_train=dt_hpo.predict(X_train)\n",
        "dt_test=dt_hpo.predict(X_test)"
      ]
    },
    {
      "cell_type": "markdown",
      "metadata": {
        "id": "ECegF-JWxULM"
      },
      "source": [
        "#### Apply ET"
      ]
    },
    {
      "cell_type": "code",
      "execution_count": 43,
      "metadata": {
        "id": "gNzFZ18MxULM",
        "outputId": "edcd0ca3-149e-4e8e-be30-becf464a9cb1"
      },
      "outputs": [
        {
          "name": "stdout",
          "output_type": "stream",
          "text": [
            "Accuracy of ET: 0.9955173701905118\n",
            "Precision of ET: 0.995528973450554\n",
            "Recall of ET: 0.9955173701905118\n",
            "F1-score of ET: 0.9954429829149765\n",
            "              precision    recall  f1-score   support\n",
            "\n",
            "           0       1.00      1.00      1.00      3640\n",
            "           1       0.99      1.00      1.00       393\n",
            "           2       1.00      1.00      1.00        22\n",
            "           3       0.99      0.99      0.99       605\n",
            "           4       1.00      0.57      0.73         7\n",
            "           5       1.00      0.99      0.99       251\n",
            "           6       0.99      1.00      0.99       436\n",
            "\n",
            "    accuracy                           1.00      5354\n",
            "   macro avg       1.00      0.93      0.96      5354\n",
            "weighted avg       1.00      1.00      1.00      5354\n",
            "\n"
          ]
        },
        {
          "data": {
            "image/png": "[encoded data removed]",
            "text/plain": [
              "<Figure size 500x500 with 2 Axes>"
            ]
          },
          "metadata": {},
          "output_type": "display_data"
        }
      ],
      "source": [
        "et = ExtraTreesClassifier(random_state = 0)\n",
        "et.fit(X_train,y_train)\n",
        "et_score=et.score(X_test,y_test)\n",
        "y_predict=et.predict(X_test)\n",
        "y_true=y_test\n",
        "print('Accuracy of ET: '+ str(et_score))\n",
        "precision,recall,fscore,none= precision_recall_fscore_support(y_true, y_predict, average='weighted')\n",
        "print('Precision of ET: '+(str(precision)))\n",
        "print('Recall of ET: '+(str(recall)))\n",
        "print('F1-score of ET: '+(str(fscore)))\n",
        "print(classification_report(y_true,y_predict))\n",
        "cm=confusion_matrix(y_true,y_predict)\n",
        "f,ax=plt.subplots(figsize=(5,5))\n",
        "sns.heatmap(cm,annot=True,linewidth=0.5,linecolor=\"red\",fmt=\".0f\",ax=ax)\n",
        "plt.xlabel(\"y_pred\")\n",
        "plt.ylabel(\"y_true\")\n",
        "plt.show()"
      ]
    },
    {
      "cell_type": "markdown",
      "metadata": {
        "id": "20UVVLaPxULM"
      },
      "source": [
        "#### Hyperparameter optimization (HPO) of extra trees using Bayesian optimization with tree-based Parzen estimator (BO-TPE)\n",
        "Based on the GitHub repo for HPO: https://github.com/LiYangHart/Hyperparameter-Optimization-of-Machine-Learning-Algorithms"
      ]
    },
    {
      "cell_type": "code",
      "execution_count": 44,
      "metadata": {
        "id": "vZKypw2PxULM",
        "outputId": "27aab1f3-1a7f-45aa-c5a0-ae1d3fc38c64"
      },
      "outputs": [
        {
          "name": "stdout",
          "output_type": "stream",
          "text": [
            "100%|██████████| 20/20 [00:23<00:00,  1.19s/trial, best loss: -0.9932760552857677]\n",
            "Random Forest: Hyperopt estimated optimum {'criterion': 1, 'max_depth': 34.0, 'max_features': 16.0, 'min_samples_leaf': 5.0, 'min_samples_split': 9.0, 'n_estimators': 63.0}\n"
          ]
        }
      ],
      "source": [
        "# Hyperparameter optimization of extra trees\n",
        "from hyperopt import hp, fmin, tpe, STATUS_OK, Trials\n",
        "from sklearn.model_selection import cross_val_score, StratifiedKFold\n",
        "# Define the objective function\n",
        "def objective(params):\n",
        "    params = {\n",
        "        'n_estimators': int(params['n_estimators']),\n",
        "        'max_depth': int(params['max_depth']),\n",
        "        'max_features': int(params['max_features']),\n",
        "        \"min_samples_split\":int(params['min_samples_split']),\n",
        "        \"min_samples_leaf\":int(params['min_samples_leaf']),\n",
        "        \"criterion\":str(params['criterion'])\n",
        "    }\n",
        "    clf = ExtraTreesClassifier( **params)\n",
        "    clf.fit(X_train,y_train)\n",
        "    score=clf.score(X_test,y_test)\n",
        "\n",
        "    return {'loss':-score, 'status': STATUS_OK }\n",
        "# Define the hyperparameter configuration space\n",
        "space = {\n",
        "    'n_estimators': hp.quniform('n_estimators', 10, 200, 1),\n",
        "    'max_depth': hp.quniform('max_depth', 5, 50, 1),\n",
        "    \"max_features\":hp.quniform('max_features', 1, 20, 1),\n",
        "    \"min_samples_split\":hp.quniform('min_samples_split',2,11,1),\n",
        "    \"min_samples_leaf\":hp.quniform('min_samples_leaf',1,11,1),\n",
        "    \"criterion\":hp.choice('criterion',['gini','entropy'])\n",
        "}\n",
        "\n",
        "best = fmin(fn=objective,\n",
        "            space=space,\n",
        "            algo=tpe.suggest,\n",
        "            max_evals=20)\n",
        "print(\"Random Forest: Hyperopt estimated optimum {}\".format(best))"
      ]
    },
    {
      "cell_type": "code",
      "execution_count": 45,
      "metadata": {
        "id": "XPaALSZhxULM",
        "outputId": "54789bbf-90a5-451c-9be5-7bc9a9c42f2e"
      },
      "outputs": [
        {
          "name": "stdout",
          "output_type": "stream",
          "text": [
            "Accuracy of ET: 0.9788942846469929\n",
            "Precision of ET: 0.9790825534615621\n",
            "Recall of ET: 0.9788942846469929\n",
            "F1-score of ET: 0.9787678455329613\n",
            "              precision    recall  f1-score   support\n",
            "\n",
            "           0       0.98      0.98      0.98      3640\n",
            "           1       0.93      1.00      0.97       393\n",
            "           2       1.00      0.91      0.95        22\n",
            "           3       0.98      0.98      0.98       605\n",
            "           4       1.00      0.57      0.73         7\n",
            "           5       1.00      0.99      0.99       251\n",
            "           6       0.96      0.91      0.94       436\n",
            "\n",
            "    accuracy                           0.98      5354\n",
            "   macro avg       0.98      0.91      0.93      5354\n",
            "weighted avg       0.98      0.98      0.98      5354\n",
            "\n"
          ]
        },
        {
          "data": {
            "image/png": "[encoded data removed]",
            "text/plain": [
              "<Figure size 500x500 with 2 Axes>"
            ]
          },
          "metadata": {},
          "output_type": "display_data"
        }
      ],
      "source": [
        "et_hpo = ExtraTreesClassifier(n_estimators = 63, min_samples_leaf = 5, max_depth = 34, min_samples_split = 9,criterion=criteria[best['criterion']])\n",
        "et_hpo.fit(X_train,y_train)\n",
        "et_score=et_hpo.score(X_test,y_test)\n",
        "y_predict=et_hpo.predict(X_test)\n",
        "y_true=y_test\n",
        "print('Accuracy of ET: '+ str(et_score))\n",
        "precision,recall,fscore,none= precision_recall_fscore_support(y_true, y_predict, average='weighted')\n",
        "print('Precision of ET: '+(str(precision)))\n",
        "print('Recall of ET: '+(str(recall)))\n",
        "print('F1-score of ET: '+(str(fscore)))\n",
        "print(classification_report(y_true,y_predict))\n",
        "cm=confusion_matrix(y_true,y_predict)\n",
        "f,ax=plt.subplots(figsize=(5,5))\n",
        "sns.heatmap(cm,annot=True,linewidth=0.5,linecolor=\"red\",fmt=\".0f\",ax=ax)\n",
        "plt.xlabel(\"y_pred\")\n",
        "plt.ylabel(\"y_true\")\n",
        "plt.show()"
      ]
    },
    {
      "cell_type": "code",
      "execution_count": 46,
      "metadata": {
        "collapsed": true,
        "id": "jnIBY2exxULN"
      },
      "outputs": [],
      "source": [
        "et_train=et_hpo.predict(X_train)\n",
        "et_test=et_hpo.predict(X_test)"
      ]
    },
    {
      "cell_type": "markdown",
      "metadata": {
        "id": "kHiUDSWjxULN"
      },
      "source": [
        "### Apply Stacking\n",
        "The ensemble model that combines the four ML models (DT, RF, ET, XGBoost)"
      ]
    },
    {
      "cell_type": "code",
      "execution_count": 47,
      "metadata": {
        "id": "YDV0PDbjxULN",
        "outputId": "acd6dd19-2dc4-4d1f-cdd4-940dc27b9c9e"
      },
      "outputs": [
        {
          "data": {
            "text/html": [
              "<div>\n",
              "<style scoped>\n",
              "    .dataframe tbody tr th:only-of-type {\n",
              "        vertical-align: middle;\n",
              "    }\n",
              "\n",
              "    .dataframe tbody tr th {\n",
              "        vertical-align: top;\n",
              "    }\n",
              "\n",
              "    .dataframe thead th {\n",
              "        text-align: right;\n",
              "    }\n",
              "</style>\n",
              "<table border=\"1\" class=\"dataframe\">\n",
              "  <thead>\n",
              "    <tr style=\"text-align: right;\">\n",
              "      <th></th>\n",
              "      <th>DecisionTree</th>\n",
              "      <th>RandomForest</th>\n",
              "      <th>ExtraTrees</th>\n",
              "      <th>XgBoost</th>\n",
              "    </tr>\n",
              "  </thead>\n",
              "  <tbody>\n",
              "    <tr>\n",
              "      <th>0</th>\n",
              "      <td>0</td>\n",
              "      <td>0</td>\n",
              "      <td>0</td>\n",
              "      <td>0</td>\n",
              "    </tr>\n",
              "    <tr>\n",
              "      <th>1</th>\n",
              "      <td>0</td>\n",
              "      <td>0</td>\n",
              "      <td>0</td>\n",
              "      <td>0</td>\n",
              "    </tr>\n",
              "    <tr>\n",
              "      <th>2</th>\n",
              "      <td>0</td>\n",
              "      <td>0</td>\n",
              "      <td>0</td>\n",
              "      <td>0</td>\n",
              "    </tr>\n",
              "    <tr>\n",
              "      <th>3</th>\n",
              "      <td>3</td>\n",
              "      <td>3</td>\n",
              "      <td>0</td>\n",
              "      <td>3</td>\n",
              "    </tr>\n",
              "    <tr>\n",
              "      <th>4</th>\n",
              "      <td>0</td>\n",
              "      <td>0</td>\n",
              "      <td>0</td>\n",
              "      <td>0</td>\n",
              "    </tr>\n",
              "  </tbody>\n",
              "</table>\n",
              "</div>"
            ],
            "text/plain": [
              "   DecisionTree  RandomForest  ExtraTrees  XgBoost\n",
              "0             0             0           0        0\n",
              "1             0             0           0        0\n",
              "2             0             0           0        0\n",
              "3             3             3           0        3\n",
              "4             0             0           0        0"
            ]
          },
          "execution_count": 47,
          "metadata": {},
          "output_type": "execute_result"
        }
      ],
      "source": [
        "base_predictions_train = pd.DataFrame( {\n",
        "    'DecisionTree': dt_train.ravel(),\n",
        "        'RandomForest': rf_train.ravel(),\n",
        "     'ExtraTrees': et_train.ravel(),\n",
        "     'XgBoost': xg_train.ravel(),\n",
        "    })\n",
        "base_predictions_train.head(5)"
      ]
    },
    {
      "cell_type": "code",
      "execution_count": 48,
      "metadata": {
        "id": "G-f9QHxIxULN"
      },
      "outputs": [],
      "source": [
        "dt_train=dt_train.reshape(-1, 1)\n",
        "et_train=et_train.reshape(-1, 1)\n",
        "rf_train=rf_train.reshape(-1, 1)\n",
        "xg_train=xg_train.reshape(-1, 1)\n",
        "dt_test=dt_test.reshape(-1, 1)\n",
        "et_test=et_test.reshape(-1, 1)\n",
        "rf_test=rf_test.reshape(-1, 1)\n",
        "xg_test=xg_test.reshape(-1, 1)"
      ]
    },
    {
      "cell_type": "code",
      "execution_count": 49,
      "metadata": {
        "id": "0Sd6BEKrxULN",
        "outputId": "3fc5d63c-a88d-45d6-ca17-e2768ea3ef87"
      },
      "outputs": [
        {
          "data": {
            "text/plain": [
              "(23297, 1)"
            ]
          },
          "execution_count": 49,
          "metadata": {},
          "output_type": "execute_result"
        }
      ],
      "source": [
        "dt_train.shape"
      ]
    },
    {
      "cell_type": "code",
      "execution_count": 50,
      "metadata": {
        "id": "CeIsTtHcxULN"
      },
      "outputs": [],
      "source": [
        "x_train = np.concatenate(( dt_train, et_train, rf_train, xg_train), axis=1)\n",
        "x_test = np.concatenate(( dt_test, et_test, rf_test, xg_test), axis=1)"
      ]
    },
    {
      "cell_type": "code",
      "execution_count": 51,
      "metadata": {
        "id": "Imw3Zs3zxULN",
        "outputId": "f1b7e7b1-2064-41dd-af40-650ad8b24bb3"
      },
      "outputs": [
        {
          "name": "stdout",
          "output_type": "stream",
          "text": [
            "Accuracy of Stacking: 0.9964512514008218\n",
            "Precision of Stacking: 0.9964727262756796\n",
            "Recall of Stacking: 0.9964512514008218\n",
            "F1-score of Stacking: 0.996452668858117\n",
            "              precision    recall  f1-score   support\n",
            "\n",
            "           0       1.00      1.00      1.00      3640\n",
            "           1       0.99      1.00      1.00       393\n",
            "           2       0.96      1.00      0.98        22\n",
            "           3       1.00      0.99      1.00       605\n",
            "           4       1.00      1.00      1.00         7\n",
            "           5       1.00      0.98      0.99       251\n",
            "           6       0.99      1.00      0.99       436\n",
            "\n",
            "    accuracy                           1.00      5354\n",
            "   macro avg       0.99      1.00      0.99      5354\n",
            "weighted avg       1.00      1.00      1.00      5354\n",
            "\n"
          ]
        },
        {
          "data": {
            "image/png": "[encoded data removed]",
            "text/plain": [
              "<Figure size 500x500 with 2 Axes>"
            ]
          },
          "metadata": {},
          "output_type": "display_data"
        }
      ],
      "source": [
        "stk = xgb.XGBClassifier().fit(x_train, y_train)\n",
        "y_predict=stk.predict(x_test)\n",
        "y_true=y_test\n",
        "stk_score=accuracy_score(y_true,y_predict)\n",
        "print('Accuracy of Stacking: '+ str(stk_score))\n",
        "precision,recall,fscore,none= precision_recall_fscore_support(y_true, y_predict, average='weighted')\n",
        "print('Precision of Stacking: '+(str(precision)))\n",
        "print('Recall of Stacking: '+(str(recall)))\n",
        "print('F1-score of Stacking: '+(str(fscore)))\n",
        "print(classification_report(y_true,y_predict))\n",
        "cm=confusion_matrix(y_true,y_predict)\n",
        "f,ax=plt.subplots(figsize=(5,5))\n",
        "sns.heatmap(cm,annot=True,linewidth=0.5,linecolor=\"red\",fmt=\".0f\",ax=ax)\n",
        "plt.xlabel(\"y_pred\")\n",
        "plt.ylabel(\"y_true\")\n",
        "plt.show()"
      ]
    },
    {
      "cell_type": "markdown",
      "metadata": {
        "id": "Rfae1FwzxULN"
      },
      "source": [
        "#### Hyperparameter optimization (HPO) of the stacking ensemble model (XGBoost) using Bayesian optimization with tree-based Parzen estimator (BO-TPE)\n",
        "Based on the GitHub repo for HPO: https://github.com/LiYangHart/Hyperparameter-Optimization-of-Machine-Learning-Algorithms"
      ]
    },
    {
      "cell_type": "code",
      "execution_count": 52,
      "metadata": {
        "id": "9gyNvLDCxULN",
        "outputId": "437079a6-5574-49c3-81ce-836a9c697ca5"
      },
      "outputs": [
        {
          "name": "stdout",
          "output_type": "stream",
          "text": [
            "100%|██████████| 20/20 [00:02<00:00,  7.42trial/s, best loss: -0.9964512514008218]\n",
            "XGBoost: Hyperopt estimated optimum {'learning_rate': 1.8632688556617412, 'max_depth': 78.0, 'n_estimators': 75.0}\n"
          ]
        }
      ],
      "source": [
        "from hyperopt import hp, fmin, tpe, STATUS_OK, Trials\n",
        "from sklearn.model_selection import cross_val_score, StratifiedKFold\n",
        "def objective(params):\n",
        "    params = {\n",
        "        'n_estimators': int(params['n_estimators']),\n",
        "        'max_depth': int(params['max_depth']),\n",
        "        'learning_rate':  abs(float(params['learning_rate'])),\n",
        "\n",
        "    }\n",
        "    clf = xgb.XGBClassifier( **params)\n",
        "    clf.fit(x_train, y_train)\n",
        "    y_pred = clf.predict(x_test)\n",
        "    score = accuracy_score(y_test, y_pred)\n",
        "\n",
        "    return {'loss':-score, 'status': STATUS_OK }\n",
        "\n",
        "space = {\n",
        "    'n_estimators': hp.quniform('n_estimators', 10, 100, 5),\n",
        "    'max_depth': hp.quniform('max_depth', 4, 100, 1),\n",
        "    'learning_rate': hp.normal('learning_rate', 0.01, 0.9),\n",
        "}\n",
        "\n",
        "best = fmin(fn=objective,\n",
        "            space=space,\n",
        "            algo=tpe.suggest,\n",
        "            max_evals=20)\n",
        "print(\"XGBoost: Hyperopt estimated optimum {}\".format(best))"
      ]
    },
    {
      "cell_type": "code",
      "execution_count": 53,
      "metadata": {
        "id": "_kZZKUWtxULN",
        "outputId": "c3f82566-8411-4029-f88c-92b9273efa69"
      },
      "outputs": [
        {
          "name": "stdout",
          "output_type": "stream",
          "text": [
            "Accuracy of XGBoost: 0.9964512514008218\n",
            "Precision of XGBoost: 0.9964727262756796\n",
            "Recall of XGBoost: 0.9964512514008218\n",
            "F1-score of XGBoost: 0.996452668858117\n",
            "              precision    recall  f1-score   support\n",
            "\n",
            "           0       1.00      1.00      1.00      3640\n",
            "           1       0.99      1.00      1.00       393\n",
            "           2       0.96      1.00      0.98        22\n",
            "           3       1.00      0.99      1.00       605\n",
            "           4       1.00      1.00      1.00         7\n",
            "           5       1.00      0.98      0.99       251\n",
            "           6       0.99      1.00      0.99       436\n",
            "\n",
            "    accuracy                           1.00      5354\n",
            "   macro avg       0.99      1.00      0.99      5354\n",
            "weighted avg       1.00      1.00      1.00      5354\n",
            "\n"
          ]
        },
        {
          "data": {
            "image/png": "[encoded data removed]",
            "text/plain": [
              "<Figure size 500x500 with 2 Axes>"
            ]
          },
          "metadata": {},
          "output_type": "display_data"
        }
      ],
      "source": [
        "xg = xgb.XGBClassifier(learning_rate= 1.8632688556617412, n_estimators = 75, max_depth = 78)\n",
        "xg.fit(x_train,y_train)\n",
        "xg_score=xg.score(x_test,y_test)\n",
        "y_predict=xg.predict(x_test)\n",
        "y_true=y_test\n",
        "print('Accuracy of XGBoost: '+ str(xg_score))\n",
        "precision,recall,fscore,none= precision_recall_fscore_support(y_true, y_predict, average='weighted')\n",
        "print('Precision of XGBoost: '+(str(precision)))\n",
        "print('Recall of XGBoost: '+(str(recall)))\n",
        "print('F1-score of XGBoost: '+(str(fscore)))\n",
        "print(classification_report(y_true,y_predict))\n",
        "cm=confusion_matrix(y_true,y_predict)\n",
        "f,ax=plt.subplots(figsize=(5,5))\n",
        "sns.heatmap(cm,annot=True,linewidth=0.5,linecolor=\"red\",fmt=\".0f\",ax=ax)\n",
        "plt.xlabel(\"y_pred\")\n",
        "plt.ylabel(\"y_true\")\n",
        "plt.show()"
      ]
    },
    {
      "cell_type": "markdown",
      "metadata": {
        "collapsed": true,
        "id": "IKB2MLKIxULO"
      },
      "source": [
        "## Anomaly-based IDS"
      ]
    },
    {
      "cell_type": "markdown",
      "metadata": {
        "id": "p5yz-9voxULO"
      },
      "source": [
        "### Generate the port-scan datasets for unknown attack detection"
      ]
    },
    {
      "cell_type": "code",
      "execution_count": 54,
      "metadata": {
        "collapsed": true,
        "id": "ZnCujsXixULO"
      },
      "outputs": [],
      "source": [
        "df=pd.read_csv('./data/CICIDS2017_sample_km.csv')"
      ]
    },
    {
      "cell_type": "code",
      "execution_count": 55,
      "metadata": {
        "id": "2orV4pmixULO",
        "outputId": "0f34e21d-4973-49c9-a7b9-8da07e98dacd"
      },
      "outputs": [
        {
          "data": {
            "text/plain": [
              "Label\n",
              "0    18197\n",
              "3     3023\n",
              "6     2180\n",
              "1     1966\n",
              "5     1256\n",
              "2      111\n",
              "4       36\n",
              "Name: count, dtype: int64"
            ]
          },
          "execution_count": 55,
          "metadata": {},
          "output_type": "execute_result"
        }
      ],
      "source": [
        "df.Label.value_counts()"
      ]
    },
    {
      "cell_type": "code",
      "execution_count": 56,
      "metadata": {
        "collapsed": true,
        "id": "6K2ATuzvxULO"
      },
      "outputs": [],
      "source": [
        "df1 = df[df['Label'] != 5]\n",
        "df1['Label'][df1['Label'] > 0] = 1\n",
        "df1.to_csv('./data/CICIDS2017_sample_km_without_portscan.csv',index=0)"
      ]
    },
    {
      "cell_type": "code",
      "execution_count": 57,
      "metadata": {
        "collapsed": true,
        "id": "P7wcUvRpxULO"
      },
      "outputs": [],
      "source": [
        "df2 = df[df['Label'] == 5]\n",
        "df2['Label'][df2['Label'] == 5] = 1\n",
        "df2.to_csv('./data/CICIDS2017_sample_km_portscan.csv',index=0)"
      ]
    },
    {
      "cell_type": "markdown",
      "metadata": {
        "id": "IDBnDD3jxULO"
      },
      "source": [
        "### Read the generated datasets for unknown attack detection"
      ]
    },
    {
      "cell_type": "code",
      "execution_count": 100,
      "metadata": {
        "collapsed": true,
        "id": "5AWn5y-RxULO"
      },
      "outputs": [],
      "source": [
        "df1 = pd.read_csv('./data/CICIDS2017_sample_km_without_portscan.csv')\n",
        "df2 = pd.read_csv('./data/CICIDS2017_sample_km_portscan.csv')"
      ]
    },
    {
      "cell_type": "code",
      "execution_count": 101,
      "metadata": {
        "id": "uM3NbLdRxULO"
      },
      "outputs": [],
      "source": [
        "features = df1.drop(['Label'],axis=1).dtypes[df1.dtypes != 'object'].index\n",
        "df1[features] = df1[features].apply(\n",
        "    lambda x: (x - x.mean()) / (x.std()))\n",
        "df2[features] = df2[features].apply(\n",
        "    lambda x: (x - x.mean()) / (x.std()))\n",
        "df1 = df1.fillna(0)\n",
        "df2 = df2.fillna(0)"
      ]
    },
    {
      "cell_type": "code",
      "execution_count": 102,
      "metadata": {
        "id": "6SOkruzuxULO",
        "outputId": "95f79cd8-1f8d-403f-cffe-3cefc74f9b28"
      },
      "outputs": [
        {
          "data": {
            "text/plain": [
              "Label\n",
              "0    18197\n",
              "1     7316\n",
              "Name: count, dtype: int64"
            ]
          },
          "execution_count": 102,
          "metadata": {},
          "output_type": "execute_result"
        }
      ],
      "source": [
        "df1.Label.value_counts()"
      ]
    },
    {
      "cell_type": "code",
      "execution_count": 103,
      "metadata": {
        "id": "1MszGjZLxULO",
        "outputId": "0bb3e2b6-7d4e-4a89-9f5e-ac2e833a8c94",
        "scrolled": true
      },
      "outputs": [
        {
          "data": {
            "text/plain": [
              "Label\n",
              "1    1256\n",
              "Name: count, dtype: int64"
            ]
          },
          "execution_count": 103,
          "metadata": {},
          "output_type": "execute_result"
        }
      ],
      "source": [
        "df2.Label.value_counts()"
      ]
    },
    {
      "cell_type": "code",
      "execution_count": 104,
      "metadata": {
        "id": "rJdYACVBxULO"
      },
      "outputs": [],
      "source": [
        "df2p=df1[df1['Label']==0]\n",
        "df2pp=df2p.sample(n=None, frac=1255/18225, replace=False, weights=None, random_state=None, axis=0)\n",
        "df2=pd.concat([df2, df2pp])"
      ]
    },
    {
      "cell_type": "code",
      "execution_count": 105,
      "metadata": {
        "id": "lOj4b5YTxULP",
        "outputId": "bb907308-19f9-4668-b962-213820bb2c12"
      },
      "outputs": [
        {
          "data": {
            "text/plain": [
              "Label\n",
              "1    1256\n",
              "0    1253\n",
              "Name: count, dtype: int64"
            ]
          },
          "execution_count": 105,
          "metadata": {},
          "output_type": "execute_result"
        }
      ],
      "source": [
        "df2.Label.value_counts()"
      ]
    },
    {
      "cell_type": "code",
      "execution_count": 106,
      "metadata": {
        "collapsed": true,
        "id": "pOJYPaElxULP"
      },
      "outputs": [],
      "source": [
        "df = pd.concat([df1, df2])"
      ]
    },
    {
      "cell_type": "code",
      "execution_count": 107,
      "metadata": {
        "id": "2zjEBWNlxULP",
        "outputId": "59cdce57-866b-4249-a4f6-c9c600e25d7a"
      },
      "outputs": [
        {
          "data": {
            "text/plain": [
              "0    19450\n",
              "1     8572\n",
              "Name: count, dtype: int64"
            ]
          },
          "execution_count": 107,
          "metadata": {},
          "output_type": "execute_result"
        }
      ],
      "source": [
        "X = df.drop(['Label'],axis=1) .values\n",
        "y = df.iloc[:, -1].values.reshape(-1,1)\n",
        "y=np.ravel(y)\n",
        "pd.Series(y).value_counts()"
      ]
    },
    {
      "cell_type": "markdown",
      "metadata": {
        "id": "0K9LrPXtxULP"
      },
      "source": [
        "### Feature engineering (IG, FCBF, and KPCA)"
      ]
    },
    {
      "cell_type": "markdown",
      "metadata": {
        "id": "UgU1auufxULP"
      },
      "source": [
        "#### Feature selection by information gain (IG)"
      ]
    },
    {
      "cell_type": "code",
      "execution_count": 108,
      "metadata": {
        "id": "ARtIfQ3WxULP"
      },
      "outputs": [],
      "source": [
        "from sklearn.feature_selection import mutual_info_classif\n",
        "importances = mutual_info_classif(X, y)"
      ]
    },
    {
      "cell_type": "code",
      "execution_count": 109,
      "metadata": {
        "id": "2I5SqdYaxULP"
      },
      "outputs": [],
      "source": [
        "# calculate the sum of importance scores\n",
        "f_list = sorted(zip(map(lambda x: round(x, 4), importances), features), reverse=True)\n",
        "Sum = 0\n",
        "fs = []\n",
        "for i in range(0, len(f_list)):\n",
        "    Sum = Sum + f_list[i][0]\n",
        "    fs.append(f_list[i][1])"
      ]
    },
    {
      "cell_type": "code",
      "execution_count": 110,
      "metadata": {
        "id": "iaRHX5LpxULP"
      },
      "outputs": [],
      "source": [
        "# select the important features from top to bottom until the accumulated importance reaches 90%\n",
        "f_list2 = sorted(zip(map(lambda x: round(x, 4), importances/Sum), features), reverse=True)\n",
        "Sum2 = 0\n",
        "fs = []\n",
        "for i in range(0, len(f_list2)):\n",
        "    Sum2 = Sum2 + f_list2[i][0]\n",
        "    fs.append(f_list2[i][1])\n",
        "    if Sum2>=0.9:\n",
        "        break"
      ]
    },
    {
      "cell_type": "code",
      "execution_count": 111,
      "metadata": {
        "id": "db242Nj2xULQ"
      },
      "outputs": [],
      "source": [
        "X_fs = df[fs].values"
      ]
    },
    {
      "cell_type": "code",
      "execution_count": 112,
      "metadata": {
        "id": "m2Zq7CH2xULQ",
        "outputId": "5cc6d1b0-fd8e-4ddd-eaa5-5615162bfb24"
      },
      "outputs": [
        {
          "data": {
            "text/plain": [
              "(28022, 50)"
            ]
          },
          "execution_count": 112,
          "metadata": {},
          "output_type": "execute_result"
        }
      ],
      "source": [
        "X_fs.shape"
      ]
    },
    {
      "cell_type": "code",
      "execution_count": 113,
      "metadata": {
        "id": "Ystr_xjhxULQ",
        "outputId": "5be0ad48-18ef-437e-f8b3-655c2763c370"
      },
      "outputs": [
        {
          "data": {
            "text/plain": [
              "array([[-0.42341759, -0.35611516,  2.08161098, ..., -0.06612584,\n",
              "        -0.08548923, -0.11810341],\n",
              "       [-0.42341759, -0.35611516,  2.39936582, ..., -0.06612584,\n",
              "        -0.08548923, -0.11810341],\n",
              "       [-0.42341759, -0.35611516,  2.364132  , ..., -0.06612584,\n",
              "        -0.08548923, -0.11810341],\n",
              "       ...,\n",
              "       [ 1.62866193, -0.34342707, -0.53403649, ..., -0.06612584,\n",
              "        -0.08548923, -0.11810341],\n",
              "       [ 1.37349389, -0.36776168, -0.53403649, ..., -0.06612584,\n",
              "        -0.08548923, -0.11810341],\n",
              "       [-0.42341759, -0.36198576,  0.53643772, ..., -0.06612584,\n",
              "        -0.08548923, -0.11810341]])"
            ]
          },
          "execution_count": 113,
          "metadata": {},
          "output_type": "execute_result"
        }
      ],
      "source": [
        "X_fs"
      ]
    },
    {
      "cell_type": "markdown",
      "metadata": {
        "id": "fJowf6HjxULQ"
      },
      "source": [
        "#### Feature selection by Fast Correlation Based Filter (FCBF)\n",
        "\n",
        "The module is imported from the GitHub repo: https://github.com/SantiagoEG/FCBF_module"
      ]
    },
    {
      "cell_type": "code",
      "execution_count": 114,
      "metadata": {
        "collapsed": true,
        "id": "P-tYGjinxULQ"
      },
      "outputs": [],
      "source": [
        "from FCBF_module import FCBF, FCBFK, FCBFiP, get_i\n",
        "fcbf = FCBFK(k = 20)\n",
        "#fcbf.fit(X_fs, y)"
      ]
    },
    {
      "cell_type": "code",
      "execution_count": 115,
      "metadata": {
        "id": "1_rE3rkcxULQ"
      },
      "outputs": [],
      "source": [
        "X_fss = fcbf.fit_transform(X_fs,y)"
      ]
    },
    {
      "cell_type": "code",
      "execution_count": 116,
      "metadata": {
        "id": "srKARs53xULQ",
        "outputId": "184afd20-29c5-4e82-9b42-9cb950266670"
      },
      "outputs": [
        {
          "data": {
            "text/plain": [
              "(28022, 20)"
            ]
          },
          "execution_count": 116,
          "metadata": {},
          "output_type": "execute_result"
        }
      ],
      "source": [
        "X_fss.shape"
      ]
    },
    {
      "cell_type": "code",
      "execution_count": 117,
      "metadata": {
        "id": "-2LaVjJGxULQ",
        "outputId": "9819ac3f-2074-4744-d75b-cb825a1b5be4"
      },
      "outputs": [
        {
          "data": {
            "text/plain": [
              "array([[-0.42341759, -0.35611516,  3.9955928 , ...,  0.06245033,\n",
              "        -0.41638529, -0.28017966],\n",
              "       [-0.42341759, -0.35611516,  3.9955928 , ...,  0.06245033,\n",
              "        -0.41616199, -0.28015013],\n",
              "       [-0.42341759, -0.35611516,  3.9955928 , ...,  0.06452729,\n",
              "        -0.41652835, -0.28013203],\n",
              "       ...,\n",
              "       [ 1.62866193, -0.34342707, -0.49791655, ..., -0.23504473,\n",
              "        -0.42281854, -0.28103051],\n",
              "       [ 1.37349389, -0.36776168,  0.00446942, ..., -0.23504473,\n",
              "        -0.42281845, -0.28103017],\n",
              "       [-0.42341759, -0.36198576,  0.00662588, ...,  0.05534901,\n",
              "        -0.41462312, -0.27517742]])"
            ]
          },
          "execution_count": 117,
          "metadata": {},
          "output_type": "execute_result"
        }
      ],
      "source": [
        "X_fss"
      ]
    },
    {
      "cell_type": "markdown",
      "metadata": {
        "id": "4C7y2aKNxULQ"
      },
      "source": [
        "####  kernel principal component analysis (KPCA)"
      ]
    },
    {
      "cell_type": "code",
      "execution_count": 118,
      "metadata": {
        "id": "gOKv2P1GxULQ"
      },
      "outputs": [],
      "source": [
        "from sklearn.decomposition import KernelPCA\n",
        "kpca = KernelPCA(n_components = 10, kernel = 'rbf')\n",
        "kpca.fit(X_fss, y)\n",
        "X_kpca = kpca.transform(X_fss)\n",
        "\n",
        "# from sklearn.decomposition import PCA\n",
        "# kpca = PCA(n_components = 10)\n",
        "# kpca.fit(X_fss, y)\n",
        "# X_kpca = kpca.transform(X_fss)"
      ]
    },
    {
      "cell_type": "markdown",
      "metadata": {
        "id": "9ptSREm7xULQ"
      },
      "source": [
        "### Train-test split after feature selection"
      ]
    },
    {
      "cell_type": "code",
      "execution_count": 119,
      "metadata": {
        "collapsed": true,
        "id": "CaRq4UCMxULQ"
      },
      "outputs": [],
      "source": [
        "X_train = X_kpca[:len(df1)]\n",
        "y_train = y[:len(df1)]\n",
        "X_test = X_kpca[len(df1):]\n",
        "y_test = y[len(df1):]"
      ]
    },
    {
      "cell_type": "markdown",
      "metadata": {
        "id": "cAl2LUupxULQ"
      },
      "source": [
        "### Solve class-imbalance by SMOTE"
      ]
    },
    {
      "cell_type": "code",
      "execution_count": 120,
      "metadata": {
        "id": "2wH4N9tnxULR",
        "outputId": "5345345f-aa88-4c40-b061-478c0a315a9e"
      },
      "outputs": [
        {
          "data": {
            "text/plain": [
              "0    18197\n",
              "1     7316\n",
              "Name: count, dtype: int64"
            ]
          },
          "execution_count": 120,
          "metadata": {},
          "output_type": "execute_result"
        }
      ],
      "source": [
        "pd.Series(y_train).value_counts()"
      ]
    },
    {
      "cell_type": "code",
      "execution_count": 121,
      "metadata": {
        "id": "ECDmI9U1xULR"
      },
      "outputs": [],
      "source": [
        "from imblearn.over_sampling import SMOTE\n",
        "smote=SMOTE(sampling_strategy={1:18225})\n",
        "X_train, y_train = smote.fit_resample(X_train, y_train)"
      ]
    },
    {
      "cell_type": "code",
      "execution_count": 122,
      "metadata": {
        "id": "GvwwlU6bxULR",
        "outputId": "86f096db-b933-4b10-8f43-8e628575100a"
      },
      "outputs": [
        {
          "data": {
            "text/plain": [
              "1    18225\n",
              "0    18197\n",
              "Name: count, dtype: int64"
            ]
          },
          "execution_count": 122,
          "metadata": {},
          "output_type": "execute_result"
        }
      ],
      "source": [
        "pd.Series(y_train).value_counts()"
      ]
    },
    {
      "cell_type": "code",
      "execution_count": 123,
      "metadata": {
        "id": "f3qLqHhnxULR",
        "outputId": "e632e5b0-59a9-47f9-d56d-6dcf9a2a7d42"
      },
      "outputs": [
        {
          "data": {
            "text/plain": [
              "1    1256\n",
              "0    1253\n",
              "Name: count, dtype: int64"
            ]
          },
          "execution_count": 123,
          "metadata": {},
          "output_type": "execute_result"
        }
      ],
      "source": [
        "pd.Series(y_test).value_counts()"
      ]
    },
    {
      "cell_type": "markdown",
      "metadata": {
        "id": "SNxIDlZ0xULR"
      },
      "source": [
        "### Apply the cluster labeling (CL) k-means method"
      ]
    },
    {
      "cell_type": "code",
      "execution_count": 124,
      "metadata": {
        "collapsed": true,
        "id": "NMgbayerxULR"
      },
      "outputs": [],
      "source": [
        "from sklearn.cluster import KMeans\n",
        "from sklearn.cluster import DBSCAN,MeanShift\n",
        "from sklearn.cluster import SpectralClustering,AgglomerativeClustering,AffinityPropagation,Birch,MiniBatchKMeans,MeanShift\n",
        "from sklearn.mixture import GaussianMixture, BayesianGaussianMixture\n",
        "from sklearn.metrics import classification_report\n",
        "from sklearn import metrics"
      ]
    },
    {
      "cell_type": "code",
      "execution_count": 125,
      "metadata": {
        "collapsed": true,
        "id": "Mn6I4AmuxULR"
      },
      "outputs": [],
      "source": [
        "def CL_kmeans(X_train, X_test, y_train, y_test,n,b=100):\n",
        "    km_cluster = MiniBatchKMeans(n_clusters=n,batch_size=b)\n",
        "    result = km_cluster.fit_predict(X_train)\n",
        "    result2 = km_cluster.predict(X_test)\n",
        "\n",
        "    count=0\n",
        "    a=np.zeros(n)\n",
        "    b=np.zeros(n)\n",
        "    for v in range(0,n):\n",
        "        for i in range(0,len(y_train)):\n",
        "            if result[i]==v:\n",
        "                if y_train[i]==1:\n",
        "                    a[v]=a[v]+1\n",
        "                else:\n",
        "                    b[v]=b[v]+1\n",
        "    list1=[]\n",
        "    list2=[]\n",
        "    for v in range(0,n):\n",
        "        if a[v]<=b[v]:\n",
        "            list1.append(v)\n",
        "        else:\n",
        "            list2.append(v)\n",
        "    for v in range(0,len(y_test)):\n",
        "        if result2[v] in list1:\n",
        "            result2[v]=0\n",
        "        elif result2[v] in list2:\n",
        "            result2[v]=1\n",
        "        else:\n",
        "            print(\"-1\")\n",
        "    print(classification_report(y_test, result2))\n",
        "    cm=confusion_matrix(y_test,result2)\n",
        "    acc=metrics.accuracy_score(y_test,result2)\n",
        "    print(str(acc))\n",
        "    print(cm)"
      ]
    },
    {
      "cell_type": "code",
      "execution_count": 126,
      "metadata": {
        "id": "a-s8tgHCxULR",
        "outputId": "ca3573d3-f9e6-4dbc-87a6-5a9155f7854c"
      },
      "outputs": [
        {
          "name": "stdout",
          "output_type": "stream",
          "text": [
            "              precision    recall  f1-score   support\n",
            "\n",
            "           0       0.61      0.84      0.71      1253\n",
            "           1       0.74      0.46      0.57      1256\n",
            "\n",
            "    accuracy                           0.65      2509\n",
            "   macro avg       0.68      0.65      0.64      2509\n",
            "weighted avg       0.68      0.65      0.64      2509\n",
            "\n",
            "0.6500597847748106\n",
            "[[1054  199]\n",
            " [ 679  577]]\n"
          ]
        }
      ],
      "source": [
        "CL_kmeans(X_train, X_test, y_train, y_test, 8)"
      ]
    },
    {
      "cell_type": "markdown",
      "metadata": {
        "id": "RFqWSv0FxULR"
      },
      "source": [
        "### Hyperparameter optimization of CL-k-means\n",
        "Tune \"k\""
      ]
    },
    {
      "cell_type": "code",
      "execution_count": 127,
      "metadata": {
        "id": "pDQpP28xxULR",
        "outputId": "728a505e-07b8-4d5d-9c8a-32a96f91f579",
        "scrolled": true
      },
      "outputs": [
        {
          "name": "stdout",
          "output_type": "stream",
          "text": [
            "30 0.6193702670386608\n",
            "43 0.42407333599043445\n",
            "43 0.6791550418493424\n",
            "43 0.42287764049422083\n",
            "32 0.45994420087684335\n",
            "20 0.4691111996811479\n",
            "16 0.45595854922279794\n",
            "5 0.4619370267038661\n",
            "15 0.4631327222000797\n",
            "25 0.4503786369071343\n",
            "42 0.4631327222000797\n",
            "8 0.48385811080111596\n",
            "8 0.4830609804703069\n",
            "13 0.47907532881626147\n",
            "4 0.41450777202072536\n",
            "50 0.6528497409326425\n",
            "3 0.4101235552012754\n",
            "48 0.44599442008768436\n",
            "45 0.6771622160223196\n",
            "38 0.6512554802710243\n",
            "18.900968074798584\n",
            "Best score=0.6792\n",
            "Best parameters: n_clusters=43\n"
          ]
        }
      ],
      "source": [
        "#Hyperparameter optimization by BO-GP\n",
        "from skopt.space import Real, Integer\n",
        "from skopt.utils import use_named_args\n",
        "from sklearn import metrics\n",
        "\n",
        "space  = [Integer(2, 50, name='n_clusters')]\n",
        "@use_named_args(space)\n",
        "def objective(**params):\n",
        "    km_cluster = MiniBatchKMeans(batch_size=100, **params)\n",
        "    n=params['n_clusters']\n",
        "\n",
        "    result = km_cluster.fit_predict(X_train)\n",
        "    result2 = km_cluster.predict(X_test)\n",
        "\n",
        "    count=0\n",
        "    a=np.zeros(n)\n",
        "    b=np.zeros(n)\n",
        "    for v in range(0,n):\n",
        "        for i in range(0,len(y_train)):\n",
        "            if result[i]==v:\n",
        "                if y_train[i]==1:\n",
        "                    a[v]=a[v]+1\n",
        "                else:\n",
        "                    b[v]=b[v]+1\n",
        "    list1=[]\n",
        "    list2=[]\n",
        "    for v in range(0,n):\n",
        "        if a[v]<=b[v]:\n",
        "            list1.append(v)\n",
        "        else:\n",
        "            list2.append(v)\n",
        "    for v in range(0,len(y_test)):\n",
        "        if result2[v] in list1:\n",
        "            result2[v]=0\n",
        "        elif result2[v] in list2:\n",
        "            result2[v]=1\n",
        "        else:\n",
        "            print(\"-1\")\n",
        "    cm=metrics.accuracy_score(y_test,result2)\n",
        "    print(str(n)+\" \"+str(cm))\n",
        "    return (1-cm)\n",
        "from skopt import gp_minimize\n",
        "import time\n",
        "t1=time.time()\n",
        "res_gp = gp_minimize(objective, space, n_calls=20, random_state=0)\n",
        "t2=time.time()\n",
        "print(t2-t1)\n",
        "print(\"Best score=%.4f\" % (1-res_gp.fun))\n",
        "print(\"\"\"Best parameters: n_clusters=%d\"\"\" % (res_gp.x[0]))"
      ]
    },
    {
      "cell_type": "code",
      "execution_count": 128,
      "metadata": {
        "id": "0RSasKHfxULR",
        "outputId": "9c01368e-a056-41b5-8f5d-a62699997821"
      },
      "outputs": [
        {
          "name": "stdout",
          "output_type": "stream",
          "text": [
            "9 0.4603427660422479                                  \n",
            "36 0.6456755679553607                                                           \n",
            "48 0.4679155041849342                                                            \n",
            "49 0.41490633718612996                                                           \n",
            "24 0.4774810681546433                                                            \n",
            "41 0.46113989637305697                                                           \n",
            "3 0.41052212036667995                                                            \n",
            "50 0.4320446392985253                                                            \n",
            "6 0.4619370267038661                                                             \n",
            "42 0.4483858110801116                                                            \n",
            "43 0.6727779992028696                                                             \n",
            "29 0.4675169390195297                                                             \n",
            "47 0.4348345954563571                                                            \n",
            "26 0.46711837385412514                                                           \n",
            "33 0.43244320446392986                                                           \n",
            "4 0.43124750896771624                                                            \n",
            "16 0.6568353925866879                                                            \n",
            "11 0.6879234754882423                                                            \n",
            "29 0.42885611797528894                                                           \n",
            "5 0.4101235552012754                                                             \n",
            "100%|██████████| 20/20 [00:21<00:00,  1.07s/trial, best loss: 0.3120765245117577]\n",
            "Random Forest: Hyperopt estimated optimum {'n_clusters': 11.0}\n"
          ]
        }
      ],
      "source": [
        "#Hyperparameter optimization by BO-TPE\n",
        "from hyperopt import hp, fmin, tpe, STATUS_OK, Trials\n",
        "from sklearn.model_selection import cross_val_score, StratifiedKFold\n",
        "from sklearn.cluster import MiniBatchKMeans\n",
        "from sklearn import metrics\n",
        "\n",
        "def objective(params):\n",
        "    params = {\n",
        "        'n_clusters': int(params['n_clusters']),\n",
        "    }\n",
        "    km_cluster = MiniBatchKMeans(batch_size=100, **params)\n",
        "    n=params['n_clusters']\n",
        "\n",
        "    result = km_cluster.fit_predict(X_train)\n",
        "    result2 = km_cluster.predict(X_test)\n",
        "\n",
        "    count=0\n",
        "    a=np.zeros(n)\n",
        "    b=np.zeros(n)\n",
        "    for v in range(0,n):\n",
        "        for i in range(0,len(y_train)):\n",
        "            if result[i]==v:\n",
        "                if y_train[i]==1:\n",
        "                    a[v]=a[v]+1\n",
        "                else:\n",
        "                    b[v]=b[v]+1\n",
        "    list1=[]\n",
        "    list2=[]\n",
        "    for v in range(0,n):\n",
        "        if a[v]<=b[v]:\n",
        "            list1.append(v)\n",
        "        else:\n",
        "            list2.append(v)\n",
        "    for v in range(0,len(y_test)):\n",
        "        if result2[v] in list1:\n",
        "            result2[v]=0\n",
        "        elif result2[v] in list2:\n",
        "            result2[v]=1\n",
        "        else:\n",
        "            print(\"-1\")\n",
        "    score=metrics.accuracy_score(y_test,result2)\n",
        "    print(str(params['n_clusters'])+\" \"+str(score))\n",
        "    return {'loss':1-score, 'status': STATUS_OK }\n",
        "space = {\n",
        "    'n_clusters': hp.quniform('n_clusters', 2, 50, 1),\n",
        "}\n",
        "\n",
        "best = fmin(fn=objective,\n",
        "            space=space,\n",
        "            algo=tpe.suggest,\n",
        "            max_evals=20)\n",
        "print(\"Random Forest: Hyperopt estimated optimum {}\".format(best))"
      ]
    },
    {
      "cell_type": "code",
      "execution_count": 129,
      "metadata": {
        "id": "B--C_pRCxULS",
        "outputId": "097b9d86-4f81-42be-a89c-aa7af299dd5b"
      },
      "outputs": [
        {
          "name": "stdout",
          "output_type": "stream",
          "text": [
            "              precision    recall  f1-score   support\n",
            "\n",
            "           0       0.61      0.92      0.73      1253\n",
            "           1       0.83      0.40      0.54      1256\n",
            "\n",
            "    accuracy                           0.66      2509\n",
            "   macro avg       0.72      0.66      0.64      2509\n",
            "weighted avg       0.72      0.66      0.64      2509\n",
            "\n",
            "0.6612196094061379\n",
            "[[1151  102]\n",
            " [ 748  508]]\n"
          ]
        }
      ],
      "source": [
        "CL_kmeans(X_train, X_test, y_train, y_test, 16)"
      ]
    },
    {
      "cell_type": "markdown",
      "metadata": {
        "id": "8qUTj1aKxULS"
      },
      "source": [
        "### Apply the CL-k-means model with biased classifiers"
      ]
    },
    {
      "cell_type": "code",
      "execution_count": 133,
      "metadata": {},
      "outputs": [],
      "source": [
        "X = df.drop(['Label'],axis=1).values\n",
        "y = df.iloc[:, -1].values.reshape(-1,1)\n",
        "y=np.ravel(y)"
      ]
    },
    {
      "cell_type": "code",
      "execution_count": 139,
      "metadata": {
        "collapsed": true,
        "id": "W2600DlVxULS"
      },
      "outputs": [],
      "source": [
        "import numpy as np\n",
        "import pandas as pd\n",
        "from sklearn.cluster import MiniBatchKMeans\n",
        "from sklearn.ensemble import RandomForestClassifier\n",
        "from sklearn.metrics import classification_report, confusion_matrix, accuracy_score\n",
        "import warnings\n",
        "\n",
        "warnings.filterwarnings(\"ignore\") # To suppress warnings from scikit-learn\n",
        "\n",
        "def Anomaly_IDS(X_train, X_test, y_train, y_test, n, b=100):\n",
        "    # CL-k-means for initial clustering\n",
        "    # Use 'n_init=\"auto\"' to suppress FutureWarning in newer scikit-learn versions\n",
        "    # Added random_state for reproducibility\n",
        "    km_cluster = MiniBatchKMeans(n_clusters=n, batch_size=b, random_state=0, n_init=\"auto\")\n",
        "    result_train_cluster = km_cluster.fit_predict(X_train)\n",
        "    result_test_cluster = km_cluster.predict(X_test)\n",
        "\n",
        "    # Cluster labeling based on y_train\n",
        "    a_counts = np.zeros(n) # counts of label 1 (anomaly) in each cluster\n",
        "    b_counts = np.zeros(n) # counts of label 0 (normal) in each cluster\n",
        "\n",
        "    for v in range(0, n):\n",
        "        for i in range(0, len(y_train)):\n",
        "            if result_train_cluster[i] == v:\n",
        "                if y_train[i] == 1:\n",
        "                    a_counts[v] += 1\n",
        "                else:\n",
        "                    b_counts[v] += 1\n",
        "\n",
        "    list_normal_clusters = [] # Clusters where normal (0) is dominant or equal\n",
        "    list_anomaly_clusters = [] # Clusters where anomaly (1) is dominant\n",
        "\n",
        "    for v in range(0, n):\n",
        "        # A cluster is considered \"normal\" if normal samples are dominant or equal\n",
        "        if a_counts[v] <= b_counts[v]:\n",
        "            list_normal_clusters.append(v)\n",
        "        else:\n",
        "            list_anomaly_clusters.append(v)\n",
        "\n",
        "    # Apply cluster labels to the test set\n",
        "    predicted_labels_cl_kmeans = np.zeros_like(y_test)\n",
        "    for i in range(0, len(y_test)):\n",
        "        cluster_id = result_test_cluster[i]\n",
        "        if cluster_id in list_normal_clusters:\n",
        "            predicted_labels_cl_kmeans[i] = 0  # Predicted as normal\n",
        "        elif cluster_id in list_anomaly_clusters:\n",
        "            predicted_labels_cl_kmeans[i] = 1  # Predicted as anomaly\n",
        "\n",
        "    print(\"CL-k-means initial classification report:\")\n",
        "    print(classification_report(y_test, predicted_labels_cl_kmeans))\n",
        "    cm_initial = confusion_matrix(y_test, predicted_labels_cl_kmeans)\n",
        "    acc_initial = accuracy_score(y_test, predicted_labels_cl_kmeans)\n",
        "    print(f\"Accuracy: {acc_initial}\")\n",
        "    print(\"Confusion Matrix:\")\n",
        "    print(cm_initial)\n",
        "\n",
        "    # Biased classifier construction\n",
        "    # We will derive the misclassified samples directly from the X_train/y_train\n",
        "    # and X_test/y_test that are passed to this function.\n",
        "\n",
        "    # Identify misclassified samples from the training set for biased classifier training\n",
        "    FN_indices_train = []  # False Negatives in training (actual anomaly, predicted normal by CL-k-means)\n",
        "    FP_indices_train = []  # False Positives in training (actual normal, predicted anomaly by CL-k-means)\n",
        "\n",
        "    for i in range(len(y_train)):\n",
        "        cluster_id = result_train_cluster[i]\n",
        "        predicted_from_cluster = 0\n",
        "        if cluster_id in list_anomaly_clusters:\n",
        "            predicted_from_cluster = 1\n",
        "\n",
        "        actual_label = y_train[i]\n",
        "\n",
        "        if actual_label == 1 and predicted_from_cluster == 0:\n",
        "            FN_indices_train.append(i)\n",
        "        elif actual_label == 0 and predicted_from_cluster == 1:\n",
        "            FP_indices_train.append(i)\n",
        "\n",
        "    # Prepare data for False Positive Learner (FPL)\n",
        "    # Train FPL on False Positives (predicted anomaly, actual normal) and a balanced set of actual anomalies.\n",
        "    X_fpl_train = X_train[FP_indices_train]\n",
        "    y_fpl_train = y_train[FP_indices_train] # These are all 0s (normal)\n",
        "\n",
        "    # Get actual anomaly indices from y_train\n",
        "    actual_anomaly_indices_train = np.where(y_train == 1)[0]\n",
        "\n",
        "    if len(actual_anomaly_indices_train) > 0 and len(X_fpl_train) > 0:\n",
        "        # Sample actual anomalies to balance the FPL training set\n",
        "        num_samples_for_fpl = len(FP_indices_train)\n",
        "        sampled_anomaly_indices_fpl = np.random.choice(actual_anomaly_indices_train, size=num_samples_for_fpl, replace=True)\n",
        "        X_fpl_train = np.vstack((X_fpl_train, X_train[sampled_anomaly_indices_fpl]))\n",
        "        y_fpl_train = np.concatenate((y_fpl_train, y_train[sampled_anomaly_indices_fpl]))\n",
        "    else:\n",
        "        print(\"Warning: Skipping FPL training due to insufficient data.\")\n",
        "        rfp = None # Set rfp to None if no data to train on\n",
        "\n",
        "    # Prepare data for False Negative Learner (FNL)\n",
        "    # Train FNL on False Negatives (predicted normal, actual anomaly) and a balanced set of actual normal samples.\n",
        "    X_fnl_train = X_train[FN_indices_train]\n",
        "    y_fnl_train = y_train[FN_indices_train] # These are all 1s (anomaly)\n",
        "\n",
        "    # Get actual normal indices from y_train\n",
        "    actual_normal_indices_train = np.where(y_train == 0)[0]\n",
        "\n",
        "    if len(actual_normal_indices_train) > 0 and len(X_fnl_train) > 0:\n",
        "        # Sample actual normal samples to balance the FNL training set\n",
        "        num_samples_for_fnl = len(FN_indices_train)\n",
        "        sampled_normal_indices_fnl = np.random.choice(actual_normal_indices_train, size=num_samples_for_fnl, replace=True)\n",
        "        X_fnl_train = np.vstack((X_fnl_train, X_train[sampled_normal_indices_fnl]))\n",
        "        y_fnl_train = np.concatenate((y_fnl_train, y_train[sampled_normal_indices_fnl]))\n",
        "    else:\n",
        "        print(\"Warning: Skipping FNL training due to insufficient data.\")\n",
        "        rfn = None # Set rfn to None if no data to train on\n",
        "\n",
        "    # Train biased classifiers\n",
        "    rfp = RandomForestClassifier(random_state=0)\n",
        "    if rfp is not None: # Check if rfp was set to None due to lack of data\n",
        "        try:\n",
        "            rfp.fit(X_fpl_train, y_fpl_train)\n",
        "        except ValueError as e:\n",
        "            print(f\"Error training FPL: {e}. Skipping FPL.\")\n",
        "            rfp = None\n",
        "\n",
        "    rfn = RandomForestClassifier(random_state=0)\n",
        "    if rfn is not None: # Check if rfn was set to None due to lack of data\n",
        "        try:\n",
        "            rfn.fit(X_fnl_train, y_fnl_train)\n",
        "        except ValueError as e:\n",
        "            print(f\"Error training FNL: {e}. Skipping FNL.\")\n",
        "            rfn = None\n",
        "\n",
        "    # Apply the hybrid system logic to X_test\n",
        "    final_prediction = np.copy(predicted_labels_cl_kmeans) # Start with CL-k-means prediction\n",
        "\n",
        "    for i in range(len(X_test)):\n",
        "        # If CL-k-means predicted normal (0) and FNL exists (potential FN)\n",
        "        if predicted_labels_cl_kmeans[i] == 0 and rfn:\n",
        "            # If the FNL classifier predicts anomaly (1), reclassify as anomaly\n",
        "            if rfn.predict(X_test[i].reshape(1, -1)) == 1:\n",
        "                final_prediction[i] = 1\n",
        "\n",
        "        # If CL-k-means predicted anomaly (1) and FPL exists (potential FP)\n",
        "        elif predicted_labels_cl_kmeans[i] == 1 and rfp:\n",
        "            # If the FPL classifier predicts normal (0), reclassify as normal\n",
        "            if rfp.predict(X_test[i].reshape(1, -1)) == 0:\n",
        "                final_prediction[i] = 0\n",
        "\n",
        "    print(\"\\nHybrid Anomaly Detection System (CL-k-means with Biased Classifiers) Report:\")\n",
        "    print(classification_report(y_test, final_prediction))\n",
        "    cm_final = confusion_matrix(y_test, final_prediction)\n",
        "    acc_final = accuracy_score(y_test, final_prediction)\n",
        "    print(f\"Accuracy: {acc_final}\")\n",
        "    print(\"Confusion Matrix:\")\n",
        "    print(cm_final)"
      ]
    },
    {
      "cell_type": "markdown",
      "metadata": {
        "id": "4KamOPCFxULS"
      },
      "source": [
        "95% of the code has been shared, and the remaining 5% is retained for future extension.  \n",
        "Thank you for your interest and more details are in the paper."
      ]
    },
    {
      "cell_type": "code",
      "execution_count": 140,
      "metadata": {
        "id": "ExOjyycAxULS"
      },
      "outputs": [
        {
          "name": "stdout",
          "output_type": "stream",
          "text": [
            "CL-k-means initial classification report:\n",
            "              precision    recall  f1-score   support\n",
            "\n",
            "           0       0.48      0.91      0.63      1253\n",
            "           1       0.00      0.00      0.00      1256\n",
            "\n",
            "    accuracy                           0.46      2509\n",
            "   macro avg       0.24      0.46      0.31      2509\n",
            "weighted avg       0.24      0.46      0.31      2509\n",
            "\n",
            "Accuracy: 0.45516141889198886\n",
            "Confusion Matrix:\n",
            "[[1142  111]\n",
            " [1256    0]]\n",
            "\n",
            "Hybrid Anomaly Detection System (CL-k-means with Biased Classifiers) Report:\n",
            "              precision    recall  f1-score   support\n",
            "\n",
            "           0       0.50      0.99      0.66      1253\n",
            "           1       0.42      0.00      0.01      1256\n",
            "\n",
            "    accuracy                           0.50      2509\n",
            "   macro avg       0.46      0.50      0.34      2509\n",
            "weighted avg       0.46      0.50      0.34      2509\n",
            "\n",
            "Accuracy: 0.4986050219210841\n",
            "Confusion Matrix:\n",
            "[[1246    7]\n",
            " [1251    5]]\n"
          ]
        }
      ],
      "source": [
        "Anomaly_IDS(X_train, X_test, y_train, y_test, 16)"
      ]
    }
  ],
  "metadata": {
    "anaconda-cloud": {},
    "colab": {
      "provenance": []
    },
    "kernelspec": {
      "display_name": "Python 3",
      "language": "python",
      "name": "python3"
    },
    "language_info": {
      "codemirror_mode": {
        "name": "ipython",
        "version": 3
      },
      "file_extension": ".py",
      "mimetype": "text/x-python",
      "name": "python",
      "nbconvert_exporter": "python",
      "pygments_lexer": "ipython3",
      "version": "3.12.2"
    }
  },
  "nbformat": 4,
  "nbformat_minor": 0
}
